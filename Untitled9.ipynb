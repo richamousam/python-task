{
 "cells": [
  {
   "cell_type": "code",
   "execution_count": 2,
   "metadata": {},
   "outputs": [
    {
     "name": "stdout",
     "output_type": "stream",
     "text": [
      "20:55:48\n"
     ]
    }
   ],
   "source": [
    "#python program to convert time\n",
    "#convert 12hour format to 24hour\n",
    "\n",
    "#function to convert date format\n",
    "def convert24(str1):\n",
    "\n",
    "# Checking if last two elements of time \n",
    "# is AM and first two elements are 12 \n",
    "    if str1[-2:] == \"AM\" and str1[:2] == \"12\": \n",
    "        return \"00\" + str1[2:-2] \n",
    "          \n",
    "    # remove the AM     \n",
    "    elif str1[-2:] == \"AM\": \n",
    "        return str1[:-2] \n",
    "      \n",
    "    # Checking if last two elements of time \n",
    "    # is PM and first two elements are 12    \n",
    "    elif str1[-2:] == \"PM\" and str1[:2] == \"12\": \n",
    "        return str1[:-2] \n",
    "       \n",
    "    else: \n",
    "          \n",
    "        # add 12 to hours and remove PM \n",
    "        return str(int(str1[:2]) + 12) + str1[2:8] \n",
    "  \n",
    "# Driver Code         \n",
    "print(convert24(\"08:55:48 PM\")) "
   ]
  },
  {
   "cell_type": "code",
   "execution_count": 14,
   "metadata": {},
   "outputs": [
    {
     "ename": "IndentationError",
     "evalue": "unindent does not match any outer indentation level (<tokenize>, line 19)",
     "output_type": "error",
     "traceback": [
      "\u001b[1;36m  File \u001b[1;32m\"<tokenize>\"\u001b[1;36m, line \u001b[1;32m19\u001b[0m\n\u001b[1;33m    else:\u001b[0m\n\u001b[1;37m    ^\u001b[0m\n\u001b[1;31mIndentationError\u001b[0m\u001b[1;31m:\u001b[0m unindent does not match any outer indentation level\n"
     ]
    }
   ],
   "source": [
    "string = input()\n",
    "alpha = \"abcdefghijklmnopqrstuvwxyz\"\n",
    "lc=\"\"\n",
    "uc=\"\"\n",
    "space=0\n",
    "even=\"\"\n",
    "odd=\"\"\n",
    "number=\"1234567890\"\n",
    "symbol=\"\"\n",
    " \n",
    "for i in string:\n",
    "    if i in alpha:\n",
    "        lc+=i\n",
    "    elif i in alpha.upper():\n",
    "        uc+=i\n",
    "    elif i in number:\n",
    "         if int(i)%2==0:\n",
    "            even+=i\n",
    "        else:\n",
    "            odd+=i\n",
    "    elif i == \" \":\n",
    "         space+=1\n",
    "    else:\n",
    "        symbol+=i\n",
    "print (symbol+\"\"+lc+\"\"+uc+\"\"+odd+\"\"+even+\"\"+str(space))        "
   ]
  },
  {
   "cell_type": "code",
   "execution_count": null,
   "metadata": {},
   "outputs": [],
   "source": []
  }
 ],
 "metadata": {
  "kernelspec": {
   "display_name": "Python 3",
   "language": "python",
   "name": "python3"
  },
  "language_info": {
   "codemirror_mode": {
    "name": "ipython",
    "version": 3
   },
   "file_extension": ".py",
   "mimetype": "text/x-python",
   "name": "python",
   "nbconvert_exporter": "python",
   "pygments_lexer": "ipython3",
   "version": "3.8.5"
  }
 },
 "nbformat": 4,
 "nbformat_minor": 4
}
